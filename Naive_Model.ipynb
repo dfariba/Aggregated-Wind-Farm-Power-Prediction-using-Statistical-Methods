{
  "cells": [
    {
      "cell_type": "markdown",
      "metadata": {
        "id": "view-in-github",
        "colab_type": "text"
      },
      "source": [
        "<a href=\"https://colab.research.google.com/github/dfariba/Aggregated-Wind-Farm-Power-Prediction-using-Statistical-Methods/blob/main/Naive_Model.ipynb\" target=\"_parent\"><img src=\"https://colab.research.google.com/assets/colab-badge.svg\" alt=\"Open In Colab\"/></a>"
      ]
    },
    {
      "cell_type": "markdown",
      "id": "2a67d0b8",
      "metadata": {
        "id": "2a67d0b8"
      },
      "source": [
        "# Prediction of Aggregated Wind Farm Power Production Located in Belgium\n",
        "Source of data: www.elia.be"
      ]
    },
    {
      "cell_type": "markdown",
      "id": "881e1f38",
      "metadata": {
        "id": "881e1f38"
      },
      "source": [
        "Naive Model"
      ]
    },
    {
      "cell_type": "code",
      "execution_count": null,
      "id": "7097f443",
      "metadata": {
        "id": "7097f443"
      },
      "outputs": [],
      "source": [
        "import pandas as pd\n",
        "from sklearn.metrics import mean_squared_error\n",
        "from matplotlib import pyplot as plt"
      ]
    },
    {
      "cell_type": "code",
      "execution_count": null,
      "id": "1adb8e0d",
      "metadata": {
        "id": "1adb8e0d"
      },
      "outputs": [],
      "source": [
        "# Load dataset\n",
        "df_power = pd.read_csv ('AggregatedWindFarm_Belgium.csv', header=0, parse_dates = [0])"
      ]
    },
    {
      "cell_type": "code",
      "execution_count": null,
      "id": "7f1913f8",
      "metadata": {
        "id": "7f1913f8",
        "outputId": "5ac343a2-b21b-4981-e09f-7fa5801d8552"
      },
      "outputs": [
        {
          "data": {
            "text/html": [
              "<div>\n",
              "<style scoped>\n",
              "    .dataframe tbody tr th:only-of-type {\n",
              "        vertical-align: middle;\n",
              "    }\n",
              "\n",
              "    .dataframe tbody tr th {\n",
              "        vertical-align: top;\n",
              "    }\n",
              "\n",
              "    .dataframe thead th {\n",
              "        text-align: right;\n",
              "    }\n",
              "</style>\n",
              "<table border=\"1\" class=\"dataframe\">\n",
              "  <thead>\n",
              "    <tr style=\"text-align: right;\">\n",
              "      <th></th>\n",
              "      <th>DateTime</th>\n",
              "      <th>Measured &amp; upscaled [MW]</th>\n",
              "    </tr>\n",
              "  </thead>\n",
              "  <tbody>\n",
              "    <tr>\n",
              "      <th>0</th>\n",
              "      <td>2023-01-01 00:00:00</td>\n",
              "      <td>4418.33</td>\n",
              "    </tr>\n",
              "    <tr>\n",
              "      <th>1</th>\n",
              "      <td>2023-01-01 00:15:00</td>\n",
              "      <td>4394.16</td>\n",
              "    </tr>\n",
              "    <tr>\n",
              "      <th>2</th>\n",
              "      <td>2023-01-01 00:30:00</td>\n",
              "      <td>4384.73</td>\n",
              "    </tr>\n",
              "    <tr>\n",
              "      <th>3</th>\n",
              "      <td>2023-01-01 00:45:00</td>\n",
              "      <td>4393.22</td>\n",
              "    </tr>\n",
              "    <tr>\n",
              "      <th>4</th>\n",
              "      <td>2023-01-01 01:00:00</td>\n",
              "      <td>4338.39</td>\n",
              "    </tr>\n",
              "  </tbody>\n",
              "</table>\n",
              "</div>"
            ],
            "text/plain": [
              "             DateTime  Measured & upscaled [MW]\n",
              "0 2023-01-01 00:00:00                   4418.33\n",
              "1 2023-01-01 00:15:00                   4394.16\n",
              "2 2023-01-01 00:30:00                   4384.73\n",
              "3 2023-01-01 00:45:00                   4393.22\n",
              "4 2023-01-01 01:00:00                   4338.39"
            ]
          },
          "execution_count": 31,
          "metadata": {},
          "output_type": "execute_result"
        }
      ],
      "source": [
        "df_power.head()"
      ]
    },
    {
      "cell_type": "code",
      "execution_count": null,
      "id": "182caac9",
      "metadata": {
        "scrolled": true,
        "id": "182caac9",
        "outputId": "13293c53-2548-4f1b-9f6e-2cb91e773c4f"
      },
      "outputs": [
        {
          "data": {
            "text/html": [
              "<div>\n",
              "<style scoped>\n",
              "    .dataframe tbody tr th:only-of-type {\n",
              "        vertical-align: middle;\n",
              "    }\n",
              "\n",
              "    .dataframe tbody tr th {\n",
              "        vertical-align: top;\n",
              "    }\n",
              "\n",
              "    .dataframe thead th {\n",
              "        text-align: right;\n",
              "    }\n",
              "</style>\n",
              "<table border=\"1\" class=\"dataframe\">\n",
              "  <thead>\n",
              "    <tr style=\"text-align: right;\">\n",
              "      <th></th>\n",
              "      <th>DateTime</th>\n",
              "      <th>Measured &amp; upscaled [MW]</th>\n",
              "    </tr>\n",
              "  </thead>\n",
              "  <tbody>\n",
              "    <tr>\n",
              "      <th>2971</th>\n",
              "      <td>2023-01-31 22:45:00</td>\n",
              "      <td>2673.72</td>\n",
              "    </tr>\n",
              "    <tr>\n",
              "      <th>2972</th>\n",
              "      <td>2023-01-31 23:00:00</td>\n",
              "      <td>2864.39</td>\n",
              "    </tr>\n",
              "    <tr>\n",
              "      <th>2973</th>\n",
              "      <td>2023-01-31 23:15:00</td>\n",
              "      <td>2908.05</td>\n",
              "    </tr>\n",
              "    <tr>\n",
              "      <th>2974</th>\n",
              "      <td>2023-01-31 23:30:00</td>\n",
              "      <td>2894.37</td>\n",
              "    </tr>\n",
              "    <tr>\n",
              "      <th>2975</th>\n",
              "      <td>2023-01-31 23:45:00</td>\n",
              "      <td>3003.24</td>\n",
              "    </tr>\n",
              "  </tbody>\n",
              "</table>\n",
              "</div>"
            ],
            "text/plain": [
              "                DateTime  Measured & upscaled [MW]\n",
              "2971 2023-01-31 22:45:00                   2673.72\n",
              "2972 2023-01-31 23:00:00                   2864.39\n",
              "2973 2023-01-31 23:15:00                   2908.05\n",
              "2974 2023-01-31 23:30:00                   2894.37\n",
              "2975 2023-01-31 23:45:00                   3003.24"
            ]
          },
          "execution_count": 32,
          "metadata": {},
          "output_type": "execute_result"
        }
      ],
      "source": [
        "df_power.tail()"
      ]
    },
    {
      "cell_type": "code",
      "execution_count": null,
      "id": "e7c5dc96",
      "metadata": {
        "id": "e7c5dc96"
      },
      "outputs": [],
      "source": [
        "df_power['t'] = df_power ['Measured & upscaled [MW]'].shift(1)"
      ]
    },
    {
      "cell_type": "code",
      "execution_count": null,
      "id": "77a2e907",
      "metadata": {
        "id": "77a2e907"
      },
      "outputs": [],
      "source": [
        "train_size =  int (df_power.shape[0]*0.8)"
      ]
    },
    {
      "cell_type": "code",
      "execution_count": null,
      "id": "a3ec8c37",
      "metadata": {
        "id": "a3ec8c37"
      },
      "outputs": [],
      "source": [
        "new_train, new_test = df_power[1:df_power.shape[0]-7], df_power[df_power.shape[0]-7:]"
      ]
    },
    {
      "cell_type": "code",
      "execution_count": null,
      "id": "eb68e6c5",
      "metadata": {
        "id": "eb68e6c5"
      },
      "outputs": [],
      "source": [
        "train_X, train_y = new_train['t'], new_train['Measured & upscaled [MW]']"
      ]
    },
    {
      "cell_type": "code",
      "execution_count": null,
      "id": "469e36fa",
      "metadata": {
        "id": "469e36fa"
      },
      "outputs": [],
      "source": [
        "test_X, test_y =  new_test['t'], new_test['Measured & upscaled [MW]']"
      ]
    },
    {
      "cell_type": "code",
      "execution_count": null,
      "id": "a6dbc66b",
      "metadata": {
        "id": "a6dbc66b"
      },
      "outputs": [],
      "source": [
        "new_prediction = test_X.copy()"
      ]
    },
    {
      "cell_type": "code",
      "execution_count": null,
      "id": "03f24d62",
      "metadata": {
        "id": "03f24d62",
        "outputId": "fa0569a9-ebd5-4073-f497-d7f3d7996004"
      },
      "outputs": [
        {
          "name": "stdout",
          "output_type": "stream",
          "text": [
            "2969    2170.83\n",
            "2970    2405.15\n",
            "2971    2557.44\n",
            "2972    2673.72\n",
            "2973    2864.39\n",
            "2974    2908.05\n",
            "2975    2894.37\n",
            "Name: t, dtype: float64\n"
          ]
        }
      ],
      "source": [
        "print (new_prediction)"
      ]
    },
    {
      "cell_type": "code",
      "execution_count": null,
      "id": "68a2df59",
      "metadata": {
        "id": "68a2df59",
        "outputId": "ec2861cc-0888-4830-859d-cf46cd33cf3e"
      },
      "outputs": [
        {
          "name": "stdout",
          "output_type": "stream",
          "text": [
            "2969    2405.15\n",
            "2970    2557.44\n",
            "2971    2673.72\n",
            "2972    2864.39\n",
            "2973    2908.05\n",
            "2974    2894.37\n",
            "2975    3003.24\n",
            "Name: Measured & upscaled [MW], dtype: float64\n"
          ]
        }
      ],
      "source": [
        "print (test_y)"
      ]
    },
    {
      "cell_type": "code",
      "execution_count": null,
      "id": "b92a9005",
      "metadata": {
        "id": "b92a9005"
      },
      "outputs": [],
      "source": [
        "new_mse = mean_squared_error (test_y, new_prediction)"
      ]
    },
    {
      "cell_type": "code",
      "execution_count": null,
      "id": "b8689433",
      "metadata": {
        "id": "b8689433",
        "outputId": "3c9218f7-0c7f-42b1-95b6-4cc00d7e3f81"
      },
      "outputs": [
        {
          "data": {
            "text/plain": [
              "20274.315528571435"
            ]
          },
          "execution_count": 42,
          "metadata": {},
          "output_type": "execute_result"
        }
      ],
      "source": [
        "new_mse"
      ]
    },
    {
      "cell_type": "code",
      "execution_count": null,
      "id": "cd01025c",
      "metadata": {
        "id": "cd01025c",
        "outputId": "9847c9e6-a555-4afe-9887-39598579bff1"
      },
      "outputs": [
        {
          "data": {
            "text/plain": [
              "[<matplotlib.lines.Line2D at 0x226f58fcb50>]"
            ]
          },
          "execution_count": 43,
          "metadata": {},
          "output_type": "execute_result"
        },
        {
          "data": {
            "image/png": "[encoded data removed]",
            "text/plain": [
              "<Figure size 640x480 with 1 Axes>"
            ]
          },
          "metadata": {},
          "output_type": "display_data"
        }
      ],
      "source": [
        "# plot results\n",
        "plt.plot (test_y)\n",
        "plt.plot (new_prediction, color='red')"
      ]
    }
  ],
  "metadata": {
    "kernelspec": {
      "display_name": "Python 3 (ipykernel)",
      "language": "python",
      "name": "python3"
    },
    "language_info": {
      "codemirror_mode": {
        "name": "ipython",
        "version": 3
      },
      "file_extension": ".py",
      "mimetype": "text/x-python",
      "name": "python",
      "nbconvert_exporter": "python",
      "pygments_lexer": "ipython3",
      "version": "3.10.9"
    },
    "colab": {
      "provenance": [],
      "include_colab_link": true
    }
  },
  "nbformat": 4,
  "nbformat_minor": 5
}