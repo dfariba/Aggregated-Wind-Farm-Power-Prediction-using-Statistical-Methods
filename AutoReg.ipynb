{
  "cells": [
    {
      "cell_type": "markdown",
      "metadata": {
        "id": "view-in-github",
        "colab_type": "text"
      },
      "source": [
        "<a href=\"https://colab.research.google.com/github/dfariba/Aggregated-Wind-Farm-Power-Prediction-using-Statistical-Methods/blob/main/AutoReg.ipynb\" target=\"_parent\"><img src=\"https://colab.research.google.com/assets/colab-badge.svg\" alt=\"Open In Colab\"/></a>"
      ]
    },
    {
      "cell_type": "markdown",
      "id": "c9ae7c8c",
      "metadata": {
        "id": "c9ae7c8c"
      },
      "source": [
        "# Prediction of Aggregated Wind Farm Power Production Located in Belgium\n",
        "Source of data: www.elia.be"
      ]
    },
    {
      "cell_type": "markdown",
      "id": "db9f5cbd",
      "metadata": {
        "id": "db9f5cbd"
      },
      "source": [
        "AutoRegression Model"
      ]
    },
    {
      "cell_type": "code",
      "execution_count": null,
      "id": "748ab137",
      "metadata": {
        "id": "748ab137"
      },
      "outputs": [],
      "source": [
        "from pandas import read_csv\n",
        "from matplotlib import pyplot as plt\n",
        "from statsmodels.tsa.ar_model import AutoReg\n",
        "from sklearn.metrics import mean_squared_error\n",
        "from math import sqrt"
      ]
    },
    {
      "cell_type": "code",
      "execution_count": null,
      "id": "c16914bd",
      "metadata": {
        "id": "c16914bd"
      },
      "outputs": [],
      "source": [
        "# Load dataset\n",
        "df_power = read_csv ('AggregatedWindFarm_Belgium.csv', header=0, index_col=0, parse_dates = True)"
      ]
    },
    {
      "cell_type": "code",
      "execution_count": null,
      "id": "d25cc5a0",
      "metadata": {
        "id": "d25cc5a0",
        "outputId": "2ededaa4-6bc5-4a2e-fcbc-e0c6e89037da"
      },
      "outputs": [
        {
          "data": {
            "text/html": [
              "<div>\n",
              "<style scoped>\n",
              "    .dataframe tbody tr th:only-of-type {\n",
              "        vertical-align: middle;\n",
              "    }\n",
              "\n",
              "    .dataframe tbody tr th {\n",
              "        vertical-align: top;\n",
              "    }\n",
              "\n",
              "    .dataframe thead th {\n",
              "        text-align: right;\n",
              "    }\n",
              "</style>\n",
              "<table border=\"1\" class=\"dataframe\">\n",
              "  <thead>\n",
              "    <tr style=\"text-align: right;\">\n",
              "      <th></th>\n",
              "      <th>Measured &amp; upscaled [MW]</th>\n",
              "    </tr>\n",
              "    <tr>\n",
              "      <th>DateTime</th>\n",
              "      <th></th>\n",
              "    </tr>\n",
              "  </thead>\n",
              "  <tbody>\n",
              "    <tr>\n",
              "      <th>2023-01-01 00:00:00</th>\n",
              "      <td>4418.33</td>\n",
              "    </tr>\n",
              "    <tr>\n",
              "      <th>2023-01-01 00:15:00</th>\n",
              "      <td>4394.16</td>\n",
              "    </tr>\n",
              "    <tr>\n",
              "      <th>2023-01-01 00:30:00</th>\n",
              "      <td>4384.73</td>\n",
              "    </tr>\n",
              "    <tr>\n",
              "      <th>2023-01-01 00:45:00</th>\n",
              "      <td>4393.22</td>\n",
              "    </tr>\n",
              "    <tr>\n",
              "      <th>2023-01-01 01:00:00</th>\n",
              "      <td>4338.39</td>\n",
              "    </tr>\n",
              "  </tbody>\n",
              "</table>\n",
              "</div>"
            ],
            "text/plain": [
              "                     Measured & upscaled [MW]\n",
              "DateTime                                     \n",
              "2023-01-01 00:00:00                   4418.33\n",
              "2023-01-01 00:15:00                   4394.16\n",
              "2023-01-01 00:30:00                   4384.73\n",
              "2023-01-01 00:45:00                   4393.22\n",
              "2023-01-01 01:00:00                   4338.39"
            ]
          },
          "execution_count": 4,
          "metadata": {},
          "output_type": "execute_result"
        }
      ],
      "source": [
        "df_power.head()"
      ]
    },
    {
      "cell_type": "code",
      "execution_count": null,
      "id": "824053e5",
      "metadata": {
        "id": "824053e5"
      },
      "outputs": [],
      "source": [
        "# split dataset\n",
        "X =  df_power.values\n",
        "new_train, new_test = X[1:len(X)-7], X[len(X)-7:]"
      ]
    },
    {
      "cell_type": "code",
      "execution_count": null,
      "id": "ba6a3eeb",
      "metadata": {
        "id": "ba6a3eeb",
        "outputId": "fff4db80-6474-4fd9-8caa-4dbd8671b322"
      },
      "outputs": [
        {
          "name": "stdout",
          "output_type": "stream",
          "text": [
            "coefficients: [ 6.87384413e+00  1.39059084e+00 -3.76179501e-01  1.24434382e-02\n",
            "  2.52717392e-02 -5.89359382e-02  1.76529685e-02 -1.28728291e-03\n",
            "  2.39698039e-02  2.51414966e-02 -1.04228210e-01  8.89969500e-02\n",
            " -1.29321717e-02 -5.61024913e-02  3.50042568e-02  3.98462598e-02\n",
            " -7.96368519e-02  4.76778027e-02 -6.33171644e-02  1.12977727e-02\n",
            "  3.42295047e-02 -6.82412794e-02  7.07190651e-02 -1.15446071e-02\n",
            "  4.27000243e-02 -6.95319725e-02  7.60667373e-02 -9.34946918e-02\n",
            "  5.77694467e-02 -6.93578576e-03]\n"
          ]
        }
      ],
      "source": [
        "# train autoregression\n",
        "ARmodel = AutoReg(new_train, lags=29)\n",
        "ARmodel_fit = ARmodel.fit()\n",
        "print('coefficients: %s' % ARmodel_fit.params)"
      ]
    },
    {
      "cell_type": "code",
      "execution_count": null,
      "id": "d46c718d",
      "metadata": {
        "id": "d46c718d",
        "outputId": "11891bc3-6532-4dea-899b-ad1a45a36b8d"
      },
      "outputs": [
        {
          "name": "stdout",
          "output_type": "stream",
          "text": [
            "predicted=2317.142189, expected=2405.150000\n",
            "predicted=2379.687886, expected=2557.440000\n",
            "predicted=2438.190804, expected=2673.720000\n",
            "predicted=2483.737793, expected=2864.390000\n",
            "predicted=2490.411294, expected=2908.050000\n",
            "predicted=2480.466173, expected=2894.370000\n",
            "predicted=2500.771875, expected=3003.240000\n",
            "Test RMSE: 345.982\n"
          ]
        }
      ],
      "source": [
        "# make predictions\n",
        "new_predictions = ARmodel_fit.predict (start=len(new_train), end=len(new_train)+len(new_test)-1, dynamic=False)\n",
        "for i in range (len(new_predictions)):\n",
        "    print('predicted=%f, expected=%f' % (new_predictions[i], new_test[i]))\n",
        "rmse = sqrt(mean_squared_error(new_test, new_predictions))\n",
        "print('Test RMSE: %.3f' %rmse)"
      ]
    },
    {
      "cell_type": "code",
      "execution_count": null,
      "id": "631f4219",
      "metadata": {
        "id": "631f4219",
        "outputId": "e433bd15-fa0d-4ec1-c2e7-7ecd9c9cb5d0"
      },
      "outputs": [
        {
          "data": {
            "text/plain": [
              "[<matplotlib.lines.Line2D at 0x17c9045cd90>]"
            ]
          },
          "execution_count": 10,
          "metadata": {},
          "output_type": "execute_result"
        },
        {
          "data": {
            "image/png": "[encoded data removed]",
            "text/plain": [
              "<Figure size 640x480 with 1 Axes>"
            ]
          },
          "metadata": {},
          "output_type": "display_data"
        }
      ],
      "source": [
        "# plot results\n",
        "plt.plot(new_test)\n",
        "plt.plot(new_predictions, color='red')"
      ]
    }
  ],
  "metadata": {
    "kernelspec": {
      "display_name": "Python 3 (ipykernel)",
      "language": "python",
      "name": "python3"
    },
    "language_info": {
      "codemirror_mode": {
        "name": "ipython",
        "version": 3
      },
      "file_extension": ".py",
      "mimetype": "text/x-python",
      "name": "python",
      "nbconvert_exporter": "python",
      "pygments_lexer": "ipython3",
      "version": "3.10.9"
    },
    "colab": {
      "provenance": [],
      "include_colab_link": true
    }
  },
  "nbformat": 4,
  "nbformat_minor": 5
}