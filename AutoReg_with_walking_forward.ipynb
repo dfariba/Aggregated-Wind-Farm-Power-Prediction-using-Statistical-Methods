{
  "cells": [
    {
      "cell_type": "markdown",
      "metadata": {
        "id": "view-in-github",
        "colab_type": "text"
      },
      "source": [
        "<a href=\"https://colab.research.google.com/github/dfariba/Aggregated-Wind-Farm-Power-Prediction-using-Statistical-Methods/blob/main/AutoReg_with_walking_forward.ipynb\" target=\"_parent\"><img src=\"https://colab.research.google.com/assets/colab-badge.svg\" alt=\"Open In Colab\"/></a>"
      ]
    },
    {
      "cell_type": "markdown",
      "id": "2503505b",
      "metadata": {
        "id": "2503505b"
      },
      "source": [
        "# Prediction of Aggregated Wind Farm Power Production Located in Belgium\n",
        "Source of data: www.elia.be"
      ]
    },
    {
      "cell_type": "markdown",
      "id": "f0192ee0",
      "metadata": {
        "id": "f0192ee0"
      },
      "source": [
        "Autoregression model with walking-forward"
      ]
    },
    {
      "cell_type": "code",
      "execution_count": null,
      "id": "0911ef25",
      "metadata": {
        "id": "0911ef25"
      },
      "outputs": [],
      "source": [
        "from pandas import read_csv\n",
        "from matplotlib import pyplot\n",
        "from statsmodels.tsa.ar_model import AutoReg\n",
        "from sklearn.metrics import mean_squared_error\n",
        "from math import sqrt"
      ]
    },
    {
      "cell_type": "code",
      "execution_count": null,
      "id": "4c7bb41a",
      "metadata": {
        "id": "4c7bb41a"
      },
      "outputs": [],
      "source": [
        "# Load dataset\n",
        "df_power = read_csv ('AggregatedWindFarm_Belgium.csv', header=0, index_col=0, parse_dates = True)"
      ]
    },
    {
      "cell_type": "code",
      "execution_count": null,
      "id": "3d0642ec",
      "metadata": {
        "id": "3d0642ec"
      },
      "outputs": [],
      "source": [
        "# split dataset\n",
        "X =  df_power.values\n",
        "new_train, new_test = X[1:len(X)-7], X[len(X)-7:]"
      ]
    },
    {
      "cell_type": "code",
      "execution_count": null,
      "id": "d46198c5",
      "metadata": {
        "id": "d46198c5"
      },
      "outputs": [],
      "source": [
        "# train autoregression\n",
        "lag_window=29\n",
        "ARmodel = AutoReg(new_train, lags=29)\n",
        "ARmodel_fit = ARmodel.fit()\n",
        "coef = ARmodel_fit.params"
      ]
    },
    {
      "cell_type": "code",
      "execution_count": null,
      "id": "59bfbd8a",
      "metadata": {
        "id": "59bfbd8a"
      },
      "outputs": [],
      "source": [
        "# walk forward over time steps in test\n",
        "history = new_train[len(new_train)-lag_window:]\n",
        "history = [history[i] for i in range (len(history))]\n",
        "new_predictions = list()"
      ]
    },
    {
      "cell_type": "code",
      "execution_count": null,
      "id": "0e3c431d",
      "metadata": {
        "id": "0e3c431d",
        "outputId": "b32aaf82-947c-43a8-d2c6-a6b8b8bf2a56"
      },
      "outputs": [
        {
          "name": "stdout",
          "output_type": "stream",
          "text": [
            "predicted=2317.142189, expected=2405.150000\n",
            "predicted=2502.070742, expected=2557.440000\n",
            "predicted=2652.264531, expected=2673.720000\n",
            "predicted=2745.490954, expected=2864.390000\n",
            "predicted=2935.577468, expected=2908.050000\n",
            "predicted=2920.273249, expected=2894.370000\n",
            "predicted=2921.002091, expected=3003.240000\n"
          ]
        }
      ],
      "source": [
        "for t in range(len(new_test)):\n",
        "    length = len(history)\n",
        "    lag = [history[i] for i in range (length-lag_window, length)]\n",
        "    yhat = coef[0]\n",
        "    for d in range(lag_window):\n",
        "        yhat += coef[d+1] * lag[lag_window-d-1]\n",
        "    obs = new_test[t]\n",
        "    new_predictions.append(yhat)\n",
        "    history.append(obs)\n",
        "    print('predicted=%f, expected=%f' % (yhat, obs))"
      ]
    },
    {
      "cell_type": "code",
      "execution_count": null,
      "id": "088f203c",
      "metadata": {
        "id": "088f203c",
        "outputId": "a715f1ea-70d8-47e1-8aca-7af5a1498e8c"
      },
      "outputs": [
        {
          "name": "stdout",
          "output_type": "stream",
          "text": [
            "Test RMSE: 69.282\n"
          ]
        }
      ],
      "source": [
        "rmse = sqrt(mean_squared_error(new_test, new_predictions))\n",
        "print('Test RMSE: %.3f' % rmse)"
      ]
    },
    {
      "cell_type": "code",
      "execution_count": null,
      "id": "cb075b91",
      "metadata": {
        "id": "cb075b91",
        "outputId": "fc2f2d97-cbd6-4a29-ad7c-b70ff0116bf7"
      },
      "outputs": [
        {
          "data": {
            "text/plain": [
              "[<matplotlib.lines.Line2D at 0x1d4e81245b0>]"
            ]
          },
          "execution_count": 8,
          "metadata": {},
          "output_type": "execute_result"
        },
        {
          "data": {
            "image/png": "[encoded data removed]",
            "text/plain": [
              "<Figure size 640x480 with 1 Axes>"
            ]
          },
          "metadata": {},
          "output_type": "display_data"
        }
      ],
      "source": [
        "# plot\n",
        "pyplot.plot(new_test)\n",
        "pyplot.plot(new_predictions, color='red')"
      ]
    }
  ],
  "metadata": {
    "kernelspec": {
      "display_name": "Python 3 (ipykernel)",
      "language": "python",
      "name": "python3"
    },
    "language_info": {
      "codemirror_mode": {
        "name": "ipython",
        "version": 3
      },
      "file_extension": ".py",
      "mimetype": "text/x-python",
      "name": "python",
      "nbconvert_exporter": "python",
      "pygments_lexer": "ipython3",
      "version": "3.10.9"
    },
    "colab": {
      "provenance": [],
      "include_colab_link": true
    }
  },
  "nbformat": 4,
  "nbformat_minor": 5
}